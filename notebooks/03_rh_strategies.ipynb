{
 "cells": [
  {
   "cell_type": "code",
   "execution_count": 1,
   "metadata": {},
   "outputs": [
    {
     "name": "stdout",
     "output_type": "stream",
     "text": [
      "Populating the interactive namespace from numpy and matplotlib\n"
     ]
    }
   ],
   "source": [
    "%run '00_rh_settings.ipynb'"
   ]
  },
  {
   "cell_type": "code",
   "execution_count": 2,
   "metadata": {},
   "outputs": [],
   "source": [
    "ts_series=data.query(\"Stock == 'GOOG'\")[\"Return\"].dropna()"
   ]
  },
  {
   "cell_type": "markdown",
   "metadata": {},
   "source": [
    "Подготовим две модели:\n",
    " * Первая будет повторять движение предыдущего дня\n",
    " * Вторая - ждать пока три дня движение было в одном направлении и затем его повторять"
   ]
  },
  {
   "cell_type": "code",
   "execution_count": 3,
   "metadata": {},
   "outputs": [],
   "source": [
    "from sklearn.base import BaseEstimator, RegressorMixin"
   ]
  },
  {
   "cell_type": "code",
   "execution_count": 4,
   "metadata": {},
   "outputs": [],
   "source": [
    "class ReplicateYesterday(BaseEstimator, RegressorMixin):  \n",
    "    \"\"\"Made using: http://danielhnyk.cz/creating-your-own-estimator-scikit-learn/\"\"\"\n",
    "\n",
    "    def fit(self, X, y=None):\n",
    "        return self\n",
    "\n",
    "    def _predict_one(self, x):\n",
    "        # # returns -1 / 0 or 1\n",
    "        # prediction = 0\n",
    "        # if x > 0:\n",
    "        #     prediction = 1\n",
    "        # if x == 0:\n",
    "        #     prediction = 0\n",
    "        # if x < 0:\n",
    "        #     prediction = -1\n",
    "        # return prediction\n",
    "        return np.sign(x)\n",
    "\n",
    "    def predict(self, X, y=None):\n",
    "        return [self._predict_one(x) for x in pd.Series(X).shift(1)]"
   ]
  },
  {
   "cell_type": "code",
   "execution_count": 5,
   "metadata": {},
   "outputs": [],
   "source": [
    "import collections\n",
    "\n",
    "class ThreeInARow(BaseEstimator, RegressorMixin):  \n",
    "    def fit(self, X, y=None):\n",
    "        return self\n",
    "\n",
    "    def predict(self, X, y=None):\n",
    "        predictions = [None] * 3\n",
    "        row = collections.deque(maxlen=3)\n",
    "        for x in pd.Series(X).shift(1)[1:]:\n",
    "            row.append(x)\n",
    "            if len(row) == 3:\n",
    "                #print(row)\n",
    "                all_signs = np.sign(row)\n",
    "                if len(set(all_signs)) == 1:\n",
    "                    predictions.append(all_signs[0])\n",
    "                else:\n",
    "                    predictions.append(0)\n",
    "        return predictions"
   ]
  },
  {
   "cell_type": "code",
   "execution_count": 6,
   "metadata": {},
   "outputs": [],
   "source": [
    "model1 = ReplicateYesterday()\n",
    "model2 = ThreeInARow()"
   ]
  },
  {
   "cell_type": "code",
   "execution_count": null,
   "metadata": {},
   "outputs": [],
   "source": []
  },
  {
   "cell_type": "markdown",
   "metadata": {},
   "source": [
    "## Profit-and-loss"
   ]
  },
  {
   "cell_type": "code",
   "execution_count": 7,
   "metadata": {},
   "outputs": [],
   "source": [
    "def pnl(y_true, y_pred):\n",
    "    df = pd.DataFrame({\"y_true\": y_true, \"y_pred\": y_pred}).dropna()\n",
    "    if len(df) < 1:\n",
    "        raise ValueError(\"At least two obserbation\")\n",
    "    df[\"pnl\"] = df[\"y_true\"] * df[\"y_pred\"]\n",
    "    #df[\"hit\"] = np.sign(df[\"y_true\"]) == np.sign(df[\"y_pred\"])\n",
    "    #df[\"hit\"] = df[\"hit\"].astype(int)\n",
    "    df[\"hit\"] = np.sign(df[\"pnl\"])\n",
    "    #percent = (sum(abs(df[\"y_true\"]))-abs(sum(df[\"pnl\"])))/sum(abs(df[\"y_true\"])\n",
    "    percent = sum(df[\"pnl\"])/ sum(abs(df[\"y_true\"]))\n",
    "    return df, percent"
   ]
  },
  {
   "cell_type": "code",
   "execution_count": 8,
   "metadata": {},
   "outputs": [
    {
     "data": {
      "text/html": [
       "<div>\n",
       "<style scoped>\n",
       "    .dataframe tbody tr th:only-of-type {\n",
       "        vertical-align: middle;\n",
       "    }\n",
       "\n",
       "    .dataframe tbody tr th {\n",
       "        vertical-align: top;\n",
       "    }\n",
       "\n",
       "    .dataframe thead th {\n",
       "        text-align: right;\n",
       "    }\n",
       "</style>\n",
       "<table border=\"1\" class=\"dataframe\">\n",
       "  <thead>\n",
       "    <tr style=\"text-align: right;\">\n",
       "      <th></th>\n",
       "      <th>y_pred</th>\n",
       "      <th>y_true</th>\n",
       "      <th>pnl</th>\n",
       "      <th>hit</th>\n",
       "    </tr>\n",
       "  </thead>\n",
       "  <tbody>\n",
       "    <tr>\n",
       "      <th>0</th>\n",
       "      <td>1</td>\n",
       "      <td>1</td>\n",
       "      <td>1</td>\n",
       "      <td>1</td>\n",
       "    </tr>\n",
       "    <tr>\n",
       "      <th>1</th>\n",
       "      <td>2</td>\n",
       "      <td>2</td>\n",
       "      <td>4</td>\n",
       "      <td>1</td>\n",
       "    </tr>\n",
       "    <tr>\n",
       "      <th>2</th>\n",
       "      <td>3</td>\n",
       "      <td>3</td>\n",
       "      <td>9</td>\n",
       "      <td>1</td>\n",
       "    </tr>\n",
       "  </tbody>\n",
       "</table>\n",
       "</div>"
      ],
      "text/plain": [
       "   y_pred  y_true  pnl  hit\n",
       "0       1       1    1    1\n",
       "1       2       2    4    1\n",
       "2       3       3    9    1"
      ]
     },
     "execution_count": 8,
     "metadata": {},
     "output_type": "execute_result"
    }
   ],
   "source": [
    "pnl(pd.Series([1,2,3]), [1,2,3])[0]"
   ]
  },
  {
   "cell_type": "markdown",
   "metadata": {},
   "source": [
    "## Hit rate scorer"
   ]
  },
  {
   "cell_type": "markdown",
   "metadata": {},
   "source": [
    "0 - угадали в 0% случаев\n",
    "\n",
    "1 - угадали в 100% случаев"
   ]
  },
  {
   "cell_type": "code",
   "execution_count": 9,
   "metadata": {},
   "outputs": [],
   "source": [
    "from sklearn.metrics import make_scorer"
   ]
  },
  {
   "cell_type": "code",
   "execution_count": 15,
   "metadata": {},
   "outputs": [],
   "source": [
    "def pnl_score_func(y_true, y_pred, **kwargs):\n",
    "    if np.shape(y_true) != np.shape(y_pred):\n",
    "        raise ValueError(\"Dimensions are different\")\n",
    "\n",
    "    df, percent = pnl(y_true, y_pred)\n",
    "    #print(df)\n",
    "    return percent\n",
    "pnl_scorer = make_scorer(pnl_score_func)"
   ]
  },
  {
   "cell_type": "markdown",
   "metadata": {},
   "source": [
    "Test of first model"
   ]
  },
  {
   "cell_type": "code",
   "execution_count": 16,
   "metadata": {},
   "outputs": [
    {
     "data": {
      "text/plain": [
       "0.5"
      ]
     },
     "execution_count": 16,
     "metadata": {},
     "output_type": "execute_result"
    }
   ],
   "source": [
    "# Test data\n",
    "returns = [-2,1,2,1]\n",
    "f_i = model1.predict(returns)\n",
    "\n",
    "total_profit = [None, -1, 2, 1]\n",
    "# metric of first model should be = 2/4\n",
    "# metric of second should be zero\n",
    "pnl_score_func(returns, model1.predict(returns))"
   ]
  },
  {
   "cell_type": "markdown",
   "metadata": {},
   "source": [
    "Test of second model"
   ]
  },
  {
   "cell_type": "code",
   "execution_count": 17,
   "metadata": {},
   "outputs": [
    {
     "data": {
      "text/plain": [
       "(12, True)"
      ]
     },
     "execution_count": 17,
     "metadata": {},
     "output_type": "execute_result"
    },
    {
     "data": {
      "text/plain": [
       "[None, None, None, 1.0, 1.0, 1.0, 1.0, 0, 0, 0, 0, 1.0]"
      ]
     },
     "execution_count": 17,
     "metadata": {},
     "output_type": "execute_result"
    },
    {
     "data": {
      "text/plain": [
       "0.0"
      ]
     },
     "execution_count": 17,
     "metadata": {},
     "output_type": "execute_result"
    }
   ],
   "source": [
    "test_data = [1,2,3,4,5,6,-1,-1-1,1,2,3,4]\n",
    "len(test_data), len(test_data) == len(model2.predict(test_data)) == len(pd.Series(test_data).shift(1))\n",
    "model2.predict(test_data)\n",
    "pnl_score_func(returns, model2.predict(returns))"
   ]
  },
  {
   "cell_type": "markdown",
   "metadata": {},
   "source": [
    "# Prediction on GOOG"
   ]
  },
  {
   "cell_type": "code",
   "execution_count": 44,
   "metadata": {},
   "outputs": [],
   "source": [
    "model1_df = pnl(ts_series, model1.predict(ts_series))[0]\n",
    "model2_df = pnl(ts_series, model2.predict(ts_series))[0]"
   ]
  },
  {
   "cell_type": "code",
   "execution_count": null,
   "metadata": {},
   "outputs": [],
   "source": []
  },
  {
   "cell_type": "code",
   "execution_count": 45,
   "metadata": {},
   "outputs": [
    {
     "name": "stderr",
     "output_type": "stream",
     "text": [
      "/usr/local/lib/python3.6/site-packages/seaborn/categorical.py:454: FutureWarning: remove_na is deprecated and is a private function. Do not use.\n",
      "  box_data = remove_na(group_data)\n"
     ]
    },
    {
     "data": {
      "image/png": "[encoded data removed]",
      "text/plain": [
       "<Figure size 1000x600 with 1 Axes>"
      ]
     },
     "metadata": {
      "image/png": {
       "height": 504,
       "width": 839
      }
     },
     "output_type": "display_data"
    }
   ],
   "source": [
    "seaborn.boxplot(data=pd.DataFrame({\"Model1\": model1_df[\"pnl\"], \"Model2\": model2_df[\"pnl\"]}));"
   ]
  },
  {
   "cell_type": "code",
   "execution_count": 21,
   "metadata": {},
   "outputs": [
    {
     "data": {
      "text/plain": [
       "<matplotlib.axes._subplots.AxesSubplot at 0x1152f20b8>"
      ]
     },
     "execution_count": 21,
     "metadata": {},
     "output_type": "execute_result"
    },
    {
     "data": {
      "text/plain": [
       "[<matplotlib.lines.Line2D at 0x1162ae9e8>]"
      ]
     },
     "execution_count": 21,
     "metadata": {},
     "output_type": "execute_result"
    },
    {
     "data": {
      "text/plain": [
       "<matplotlib.axes._subplots.AxesSubplot at 0x1162aea90>"
      ]
     },
     "execution_count": 21,
     "metadata": {},
     "output_type": "execute_result"
    },
    {
     "data": {
      "text/plain": [
       "[<matplotlib.lines.Line2D at 0x1162e2a58>]"
      ]
     },
     "execution_count": 21,
     "metadata": {},
     "output_type": "execute_result"
    },
    {
     "data": {
      "image/png": "[encoded data removed]",
      "text/plain": [
       "<Figure size 1000x600 with 2 Axes>"
      ]
     },
     "metadata": {
      "image/png": {
       "height": 504,
       "width": 827
      }
     },
     "output_type": "display_data"
    }
   ],
   "source": [
    "import numpy as np\n",
    "import matplotlib.pyplot as plt\n",
    "\n",
    "plt.subplot(1,2,1)\n",
    "\n",
    "data = model1_df[\"hit\"]\n",
    "# evaluate the histogram\n",
    "values, base = np.histogram(data, bins=100)\n",
    "#evaluate the cumulative\n",
    "cumulative = np.cumsum(values)\n",
    "# plot the cumulative function\n",
    "plt.plot(base[:-1], cumulative, c='blue')\n",
    "\n",
    "plt.subplot(1,2,2)\n",
    "\n",
    "data = model2_df[\"hit\"]\n",
    "# evaluate the histogram\n",
    "values, base = np.histogram(data, bins=100)\n",
    "#evaluate the cumulative\n",
    "cumulative = np.cumsum(values)\n",
    "# plot the cumulative function\n",
    "plt.plot(base[:-1], cumulative, c='blue')\n",
    "\n",
    "plt.show()"
   ]
  },
  {
   "cell_type": "code",
   "execution_count": null,
   "metadata": {},
   "outputs": [],
   "source": []
  },
  {
   "cell_type": "code",
   "execution_count": null,
   "metadata": {},
   "outputs": [],
   "source": []
  },
  {
   "cell_type": "code",
   "execution_count": null,
   "metadata": {},
   "outputs": [],
   "source": []
  },
  {
   "cell_type": "code",
   "execution_count": null,
   "metadata": {},
   "outputs": [],
   "source": []
  },
  {
   "cell_type": "code",
   "execution_count": 46,
   "metadata": {},
   "outputs": [
    {
     "data": {
      "text/plain": [
       "(count    946.000000\n",
       " mean       0.004228\n",
       " std        1.000520\n",
       " min       -1.000000\n",
       " 25%       -1.000000\n",
       " 50%        1.000000\n",
       " 75%        1.000000\n",
       " max        1.000000\n",
       " Name: hit, dtype: float64, count    944.000000\n",
       " mean      -0.010593\n",
       " std        0.508563\n",
       " min       -1.000000\n",
       " 25%        0.000000\n",
       " 50%        0.000000\n",
       " 75%        0.000000\n",
       " max        1.000000\n",
       " Name: hit, dtype: float64)"
      ]
     },
     "execution_count": 46,
     "metadata": {},
     "output_type": "execute_result"
    }
   ],
   "source": [
    "model1_df[\"hit\"].describe(), model2_df[\"hit\"].describe()"
   ]
  },
  {
   "cell_type": "code",
   "execution_count": null,
   "metadata": {},
   "outputs": [],
   "source": []
  },
  {
   "cell_type": "code",
   "execution_count": 47,
   "metadata": {},
   "outputs": [
    {
     "data": {
      "text/html": [
       "<div>\n",
       "<style scoped>\n",
       "    .dataframe tbody tr th:only-of-type {\n",
       "        vertical-align: middle;\n",
       "    }\n",
       "\n",
       "    .dataframe tbody tr th {\n",
       "        vertical-align: top;\n",
       "    }\n",
       "\n",
       "    .dataframe thead th {\n",
       "        text-align: right;\n",
       "    }\n",
       "</style>\n",
       "<table border=\"1\" class=\"dataframe\">\n",
       "  <thead>\n",
       "    <tr style=\"text-align: right;\">\n",
       "      <th></th>\n",
       "      <th>model1_direction_pred</th>\n",
       "      <th>model2_direction_pred</th>\n",
       "      <th>true_direction</th>\n",
       "    </tr>\n",
       "    <tr>\n",
       "      <th>Date</th>\n",
       "      <th></th>\n",
       "      <th></th>\n",
       "      <th></th>\n",
       "    </tr>\n",
       "  </thead>\n",
       "  <tbody>\n",
       "    <tr>\n",
       "      <th>2014-04-02</th>\n",
       "      <td>-1.0</td>\n",
       "      <td>0.0</td>\n",
       "      <td>1.0</td>\n",
       "    </tr>\n",
       "    <tr>\n",
       "      <th>2014-04-03</th>\n",
       "      <td>1.0</td>\n",
       "      <td>0.0</td>\n",
       "      <td>-1.0</td>\n",
       "    </tr>\n",
       "    <tr>\n",
       "      <th>2014-04-04</th>\n",
       "      <td>-1.0</td>\n",
       "      <td>0.0</td>\n",
       "      <td>1.0</td>\n",
       "    </tr>\n",
       "    <tr>\n",
       "      <th>2014-04-07</th>\n",
       "      <td>1.0</td>\n",
       "      <td>0.0</td>\n",
       "      <td>1.0</td>\n",
       "    </tr>\n",
       "    <tr>\n",
       "      <th>2014-04-08</th>\n",
       "      <td>1.0</td>\n",
       "      <td>0.0</td>\n",
       "      <td>-1.0</td>\n",
       "    </tr>\n",
       "  </tbody>\n",
       "</table>\n",
       "</div>"
      ],
      "text/plain": [
       "            model1_direction_pred  model2_direction_pred  true_direction\n",
       "Date                                                                    \n",
       "2014-04-02                   -1.0                    0.0             1.0\n",
       "2014-04-03                    1.0                    0.0            -1.0\n",
       "2014-04-04                   -1.0                    0.0             1.0\n",
       "2014-04-07                    1.0                    0.0             1.0\n",
       "2014-04-08                    1.0                    0.0            -1.0"
      ]
     },
     "execution_count": 47,
     "metadata": {},
     "output_type": "execute_result"
    }
   ],
   "source": [
    "predictions = pd.DataFrame({\"model1_direction_pred\": model1.predict(ts_series),\n",
    "                      \"model2_direction_pred\": model2.predict(ts_series),\n",
    "                      \"true_direction\": numpy.sign(ts_series)}).dropna()\n",
    "predictions.head()"
   ]
  },
  {
   "cell_type": "code",
   "execution_count": null,
   "metadata": {},
   "outputs": [],
   "source": []
  },
  {
   "cell_type": "markdown",
   "metadata": {},
   "source": [
    "## Sharpe ratio"
   ]
  },
  {
   "cell_type": "markdown",
   "metadata": {},
   "source": [
    "$SR = E[pnl_i] / \\sqrt{V[pnl_i]}$"
   ]
  },
  {
   "cell_type": "code",
   "execution_count": 48,
   "metadata": {},
   "outputs": [],
   "source": [
    "sharpe_ratio = mean(model1_df[\"pnl\"]) / std(model1_df[\"pnl\"])"
   ]
  },
  {
   "cell_type": "code",
   "execution_count": 41,
   "metadata": {},
   "outputs": [
    {
     "data": {
      "text/plain": [
       "0.007675573428036591"
      ]
     },
     "execution_count": 41,
     "metadata": {},
     "output_type": "execute_result"
    }
   ],
   "source": [
    "sharpe_ratio"
   ]
  },
  {
   "cell_type": "code",
   "execution_count": 38,
   "metadata": {},
   "outputs": [
    {
     "name": "stdout",
     "output_type": "stream",
     "text": [
      "mean_squared_error for model is: 1.9872881355932204\n",
      "mean_absolute_error for model is: 0.9936440677966102\n",
      "pnl_score_func for model is: 0.006355932203389831\n"
     ]
    }
   ],
   "source": [
    "metrics = [sklearn.metrics.mean_squared_error, sklearn.metrics.mean_absolute_error, pnl_score_func]\n",
    "for metric in metrics:\n",
    "    print(\"%s for model is: %s\" % (metric.__name__, metric(predictions[\"model1_pred\"], predictions[\"true\"])))"
   ]
  }
 ],
 "metadata": {
  "kernelspec": {
   "display_name": "Python 3",
   "language": "python",
   "name": "python3"
  },
  "language_info": {
   "codemirror_mode": {
    "name": "ipython",
    "version": 3
   },
   "file_extension": ".py",
   "mimetype": "text/x-python",
   "name": "python",
   "nbconvert_exporter": "python",
   "pygments_lexer": "ipython3",
   "version": "3.6.5"
  }
 },
 "nbformat": 4,
 "nbformat_minor": 2
}
