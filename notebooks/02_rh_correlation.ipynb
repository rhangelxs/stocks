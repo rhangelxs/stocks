{
 "cells": [
  {
   "cell_type": "code",
   "execution_count": 190,
   "metadata": {},
   "outputs": [
    {
     "name": "stdout",
     "output_type": "stream",
     "text": [
      "Populating the interactive namespace from numpy and matplotlib\n"
     ]
    },
    {
     "name": "stderr",
     "output_type": "stream",
     "text": [
      "/usr/local/lib/python3.6/site-packages/IPython/core/magics/pylab.py:160: UserWarning: pylab import has clobbered these variables: ['norm', 'test']\n",
      "`%matplotlib` prevents importing * from pylab and numpy\n",
      "  \"\\n`%matplotlib` prevents importing * from pylab and numpy\"\n"
     ]
    }
   ],
   "source": [
    "%run '00_rh_settings.ipynb'"
   ]
  },
  {
   "cell_type": "code",
   "execution_count": 191,
   "metadata": {},
   "outputs": [
    {
     "data": {
      "text/html": [
       "<div>\n",
       "<style scoped>\n",
       "    .dataframe tbody tr th:only-of-type {\n",
       "        vertical-align: middle;\n",
       "    }\n",
       "\n",
       "    .dataframe tbody tr th {\n",
       "        vertical-align: top;\n",
       "    }\n",
       "\n",
       "    .dataframe thead th {\n",
       "        text-align: right;\n",
       "    }\n",
       "</style>\n",
       "<table border=\"1\" class=\"dataframe\">\n",
       "  <thead>\n",
       "    <tr style=\"text-align: right;\">\n",
       "      <th>Stock</th>\n",
       "      <th>AAPL</th>\n",
       "      <th>FB</th>\n",
       "      <th>GOOG</th>\n",
       "    </tr>\n",
       "    <tr>\n",
       "      <th>Date</th>\n",
       "      <th></th>\n",
       "      <th></th>\n",
       "      <th></th>\n",
       "    </tr>\n",
       "  </thead>\n",
       "  <tbody>\n",
       "    <tr>\n",
       "      <th>2014-03-28</th>\n",
       "      <td>0.001118</td>\n",
       "      <td>0.015997</td>\n",
       "      <td>-0.002732</td>\n",
       "    </tr>\n",
       "    <tr>\n",
       "      <th>2014-03-31</th>\n",
       "      <td>0.000224</td>\n",
       "      <td>-0.003818</td>\n",
       "      <td>0.005422</td>\n",
       "    </tr>\n",
       "    <tr>\n",
       "      <th>2014-04-01</th>\n",
       "      <td>-0.009065</td>\n",
       "      <td>-0.038007</td>\n",
       "      <td>-0.017967</td>\n",
       "    </tr>\n",
       "    <tr>\n",
       "      <th>2014-04-02</th>\n",
       "      <td>-0.001659</td>\n",
       "      <td>-0.001594</td>\n",
       "      <td>0.000282</td>\n",
       "    </tr>\n",
       "    <tr>\n",
       "      <th>2014-04-03</th>\n",
       "      <td>0.006979</td>\n",
       "      <td>0.054295</td>\n",
       "      <td>-0.004809</td>\n",
       "    </tr>\n",
       "  </tbody>\n",
       "</table>\n",
       "</div>"
      ],
      "text/plain": [
       "Stock           AAPL        FB      GOOG\n",
       "Date                                    \n",
       "2014-03-28  0.001118  0.015997 -0.002732\n",
       "2014-03-31  0.000224 -0.003818  0.005422\n",
       "2014-04-01 -0.009065 -0.038007 -0.017967\n",
       "2014-04-02 -0.001659 -0.001594  0.000282\n",
       "2014-04-03  0.006979  0.054295 -0.004809"
      ]
     },
     "execution_count": 191,
     "metadata": {},
     "output_type": "execute_result"
    }
   ],
   "source": [
    "#data_GA = data.query(\"Stock == 'GOOG' | Stock == 'AAPL'\").dropna().groupby(\"Stock\")[\"Return\"]\n",
    "data_AFG = data.pivot_table(index='Date', columns='Stock', values='Return')[[\"AAPL\",\"FB\",\"GOOG\"]].dropna()\n",
    "data_AFG.head()"
   ]
  },
  {
   "cell_type": "code",
   "execution_count": 192,
   "metadata": {},
   "outputs": [],
   "source": [
    "#data.query(\"Stock == 'GOOG' | Stock == 'AAPL' | Stock == 'FB'\")[[\"Date\",\"Stock\",\"Return\"]].dropna().groupby([\"Date\",\"Stock\"], as_index=False).head()"
   ]
  },
  {
   "cell_type": "markdown",
   "metadata": {},
   "source": [
    "## Granger causality"
   ]
  },
  {
   "cell_type": "code",
   "execution_count": 199,
   "metadata": {},
   "outputs": [
    {
     "name": "stdout",
     "output_type": "stream",
     "text": [
      "\n",
      "Granger Causality\n",
      "number of lags (no zero) 1\n",
      "ssr based F test:         F=0.1173  , p=0.7320  , df_denom=942, df_num=1\n",
      "ssr based chi2 test:   chi2=0.1177  , p=0.7315  , df=1\n",
      "likelihood ratio test: chi2=0.1177  , p=0.7315  , df=1\n",
      "parameter F test:         F=0.1173  , p=0.7320  , df_denom=942, df_num=1\n",
      "\n",
      "Granger Causality\n",
      "number of lags (no zero) 2\n",
      "ssr based F test:         F=0.1321  , p=0.8762  , df_denom=939, df_num=2\n",
      "ssr based chi2 test:   chi2=0.2657  , p=0.8756  , df=2\n",
      "likelihood ratio test: chi2=0.2657  , p=0.8756  , df=2\n",
      "parameter F test:         F=0.1321  , p=0.8762  , df_denom=939, df_num=2\n",
      "\n",
      "Granger Causality\n",
      "number of lags (no zero) 3\n",
      "ssr based F test:         F=0.2936  , p=0.8300  , df_denom=936, df_num=3\n",
      "ssr based chi2 test:   chi2=0.8875  , p=0.8285  , df=3\n",
      "likelihood ratio test: chi2=0.8870  , p=0.8286  , df=3\n",
      "parameter F test:         F=0.2936  , p=0.8300  , df_denom=936, df_num=3\n",
      "\n",
      "Granger Causality\n",
      "number of lags (no zero) 4\n",
      "ssr based F test:         F=0.2131  , p=0.9312  , df_denom=933, df_num=4\n",
      "ssr based chi2 test:   chi2=0.8608  , p=0.9301  , df=4\n",
      "likelihood ratio test: chi2=0.8604  , p=0.9302  , df=4\n",
      "parameter F test:         F=0.2131  , p=0.9312  , df_denom=933, df_num=4\n",
      "\n",
      "Granger Causality\n",
      "number of lags (no zero) 5\n",
      "ssr based F test:         F=0.4118  , p=0.8408  , df_denom=930, df_num=5\n",
      "ssr based chi2 test:   chi2=2.0835  , p=0.8375  , df=5\n",
      "likelihood ratio test: chi2=2.0812  , p=0.8378  , df=5\n",
      "parameter F test:         F=0.4118  , p=0.8408  , df_denom=930, df_num=5\n",
      "\n",
      "Granger Causality\n",
      "number of lags (no zero) 6\n",
      "ssr based F test:         F=0.3562  , p=0.9065  , df_denom=927, df_num=6\n",
      "ssr based chi2 test:   chi2=2.1670  , p=0.9037  , df=6\n",
      "likelihood ratio test: chi2=2.1645  , p=0.9040  , df=6\n",
      "parameter F test:         F=0.3562  , p=0.9065  , df_denom=927, df_num=6\n",
      "\n",
      "Granger Causality\n",
      "number of lags (no zero) 7\n",
      "ssr based F test:         F=0.5323  , p=0.8105  , df_denom=924, df_num=7\n",
      "ssr based chi2 test:   chi2=3.7863  , p=0.8040  , df=7\n",
      "likelihood ratio test: chi2=3.7786  , p=0.8049  , df=7\n",
      "parameter F test:         F=0.5323  , p=0.8105  , df_denom=924, df_num=7\n",
      "\n",
      "Granger Causality\n",
      "number of lags (no zero) 8\n",
      "ssr based F test:         F=0.4914  , p=0.8629  , df_denom=921, df_num=8\n",
      "ssr based chi2 test:   chi2=4.0036  , p=0.8568  , df=8\n",
      "likelihood ratio test: chi2=3.9950  , p=0.8576  , df=8\n",
      "parameter F test:         F=0.4914  , p=0.8629  , df_denom=921, df_num=8\n",
      "\n",
      "Granger Causality\n",
      "number of lags (no zero) 9\n",
      "ssr based F test:         F=0.4538  , p=0.9053  , df_denom=918, df_num=9\n",
      "ssr based chi2 test:   chi2=4.1690  , p=0.8999  , df=9\n",
      "likelihood ratio test: chi2=4.1597  , p=0.9006  , df=9\n",
      "parameter F test:         F=0.4538  , p=0.9053  , df_denom=918, df_num=9\n",
      "\n",
      "Granger Causality\n",
      "number of lags (no zero) 10\n",
      "ssr based F test:         F=0.5297  , p=0.8699  , df_denom=915, df_num=10\n",
      "ssr based chi2 test:   chi2=5.4188  , p=0.8615  , df=10\n",
      "likelihood ratio test: chi2=5.4032  , p=0.8627  , df=10\n",
      "parameter F test:         F=0.5297  , p=0.8699  , df_denom=915, df_num=10\n"
     ]
    }
   ],
   "source": [
    "statsmodels.api.tsa.stattools.grangercausalitytests(data_AFG[['GOOG', 'AAPL']], maxlag=10, addconst=True);"
   ]
  },
  {
   "cell_type": "markdown",
   "metadata": {},
   "source": [
    "__Вывод:__ у акциий Apple и Google нет значения лага, при которой они в значительной мере линейно зависимы"
   ]
  },
  {
   "cell_type": "markdown",
   "metadata": {},
   "source": [
    "## Считать корреляцию плохая идея, поэтому мы будем использовать пакет который пытались портировать из R"
   ]
  },
  {
   "cell_type": "code",
   "execution_count": 332,
   "metadata": {},
   "outputs": [
    {
     "data": {
      "text/plain": [
       "(0.007287643720310545, 0.8228713018425238)"
      ]
     },
     "execution_count": 332,
     "metadata": {},
     "output_type": "execute_result"
    }
   ],
   "source": [
    "stats.pearsonr(data_AFG.AAPL, data_AFG.GOOG)"
   ]
  },
  {
   "cell_type": "markdown",
   "metadata": {},
   "source": [
    "В пакете перенесли не все функции, он \"сырой\", но это хотя бы что-то.\n",
    "\n",
    "Оригинальный пакет из R: https://cran.r-project.org/web/packages/egcm/index.html\n",
    "\n",
    "Его порт на Python: https://github.com/David-OConnor/egcm"
   ]
  },
  {
   "cell_type": "code",
   "execution_count": 201,
   "metadata": {},
   "outputs": [],
   "source": [
    "from egcm.test import *\n",
    "from egcm import *"
   ]
  },
  {
   "cell_type": "markdown",
   "metadata": {},
   "source": [
    "Given two time series $Y[t]$ and $X[t]$, the Engle Granger cointegration\n",
    "model in its simplest form looks for alpha, beta and rho such that\n",
    "\n",
    "$Y[t] = \\alpha + \\beta * X[t] + R[t]$\n",
    "\n",
    "$R[t] = \\rho * R[t-1] + \\epsilon[t]$\n",
    "\n",
    "where $epsilon[t]$ is a series of independent and identically distributed\n",
    "innovations with mean zero. If $\\alpha$, $\\beta$ and $\\rho$ can be found such that\n",
    "$-1 < \\rho < 1$, then the series are said to be cointegrated. If $abs(\\rho) = 1$,\n",
    "then the residual series $R[t]$ is said to have a unit root (or alternatively,\n",
    "it is said to follow a random walk)."
   ]
  },
  {
   "cell_type": "markdown",
   "metadata": {},
   "source": [
    "Похоже, порт не совсем корректно считает P-value, поэтому используем дополнительную проверку."
   ]
  },
  {
   "cell_type": "code",
   "execution_count": 333,
   "metadata": {},
   "outputs": [],
   "source": [
    "def cointegration_check(egcm_result):\n",
    "    # Check for cointegration without pvalue\n",
    "    keys = ['alpha', 'beta','rho']\n",
    "    parameters = [egcm_result.get(key) for key in keys]\n",
    "    df = pd.DataFrame({'keys': keys, 'parameters': parameters})\n",
    "    return df, all(abs(df.parameters) < 1)"
   ]
  },
  {
   "cell_type": "code",
   "execution_count": null,
   "metadata": {},
   "outputs": [],
   "source": []
  },
  {
   "cell_type": "markdown",
   "metadata": {},
   "source": [
    "### Тестовые данные"
   ]
  },
  {
   "cell_type": "code",
   "execution_count": 334,
   "metadata": {},
   "outputs": [
    {
     "data": {
      "text/plain": [
       "{'statistic': -107.41003214767116,\n",
       " 'alternative': 'cointegrated',\n",
       " 'p_value': 0.0001,\n",
       " 'method': 'Engle Granger two-step cointegration test pp',\n",
       " 'urtest': 'Phillips-Perron test',\n",
       " 'data_name': 'Placeholder'}"
      ]
     },
     "execution_count": 334,
     "metadata": {},
     "output_type": "execute_result"
    },
    {
     "data": {
      "text/plain": [
       "False"
      ]
     },
     "execution_count": 334,
     "metadata": {},
     "output_type": "execute_result"
    },
    {
     "data": {
      "text/plain": [
       "(    keys  parameters\n",
       " 0  alpha    0.054603\n",
       " 1   beta   -0.135373\n",
       " 2    rho   -0.075385, True)"
      ]
     },
     "execution_count": 334,
     "metadata": {},
     "output_type": "execute_result"
    }
   ],
   "source": [
    "norm_values = scipy.stats.norm.rvs(size=100)\n",
    "\n",
    "test_data0 = pd.DataFrame({\"First\":norm_values, \"Second\":200*norm_values+200})\n",
    "test_data1 = pd.DataFrame({\"First\":norm_values, \"Second\":scipy.stats.norm.rvs(size=100)})\n",
    "test_data2 = pd.DataFrame({\"First\":norm_values, \"Second\":norm_values+norm_values})\n",
    "test_data3 = pd.DataFrame({\"First\":norm_values, \"Second\":range(0,100)+sin(range(0,100))+norm_values+norm_values*norm_values})\n",
    "test_data4 = pd.DataFrame({\"First\":norm_values, \"Second\":range(0,100)})\n",
    "test_data = test_data1\n",
    "\n",
    "test_egcm_result = egcm(test_data[\"First\"], test_data[\"Second\"], robust=True)\n",
    "test_egcm(test_egcm_result)\n",
    "is_cointegrated(test_egcm_result)\n",
    "cointegration_check(test_egcm_result)"
   ]
  },
  {
   "cell_type": "markdown",
   "metadata": {},
   "source": [
    "## Apple и Google"
   ]
  },
  {
   "cell_type": "code",
   "execution_count": 335,
   "metadata": {},
   "outputs": [
    {
     "data": {
      "text/plain": [
       "{'statistic': -820.5217778380179,\n",
       " 'alternative': 'cointegrated',\n",
       " 'p_value': 9.999999999999999e-05,\n",
       " 'method': 'Engle Granger two-step cointegration test pp',\n",
       " 'urtest': 'Phillips-Perron test',\n",
       " 'data_name': 'Placeholder'}"
      ]
     },
     "execution_count": 335,
     "metadata": {},
     "output_type": "execute_result"
    },
    {
     "data": {
      "text/plain": [
       "False"
      ]
     },
     "execution_count": 335,
     "metadata": {},
     "output_type": "execute_result"
    },
    {
     "data": {
      "text/plain": [
       "(    keys  parameters\n",
       " 0  alpha   -0.000697\n",
       " 1   beta   -0.000288\n",
       " 2    rho    0.038026, True)"
      ]
     },
     "execution_count": 335,
     "metadata": {},
     "output_type": "execute_result"
    }
   ],
   "source": [
    "#import egcm\n",
    "egcm_result = egcm(X=data_AFG.AAPL, Y=data_AFG.GOOG, robust=True)\n",
    "\n",
    "# egcm(X,Y) -- Constructs an Engle-Granger cointegration model from X & Y\n",
    "# summary.egcm(E) -- Prints various summary statistics on the Engle-Granger\n",
    "# cointegration model constructed from X & Y\n",
    "# plot.egcm(E) -- Creates a graph of the Engle-Granger cointegration model\n",
    "test_egcm(egcm_result)\n",
    "is_cointegrated(egcm_result)\n",
    "cointegration_check(egcm_result)"
   ]
  },
  {
   "cell_type": "markdown",
   "metadata": {},
   "source": [
    "Могут быть связаны"
   ]
  }
 ],
 "metadata": {
  "kernelspec": {
   "display_name": "Python 3",
   "language": "python",
   "name": "python3"
  },
  "language_info": {
   "codemirror_mode": {
    "name": "ipython",
    "version": 3
   },
   "file_extension": ".py",
   "mimetype": "text/x-python",
   "name": "python",
   "nbconvert_exporter": "python",
   "pygments_lexer": "ipython3",
   "version": "3.6.5"
  }
 },
 "nbformat": 4,
 "nbformat_minor": 2
}
