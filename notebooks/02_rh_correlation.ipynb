{
 "cells": [
  {
   "cell_type": "code",
   "execution_count": 1,
   "metadata": {},
   "outputs": [
    {
     "name": "stdout",
     "output_type": "stream",
     "text": [
      "Populating the interactive namespace from numpy and matplotlib\n"
     ]
    }
   ],
   "source": [
    "%run '00_rh_settings.ipynb'"
   ]
  },
  {
   "cell_type": "markdown",
   "metadata": {},
   "source": [
    "# Correlation and non-independence"
   ]
  },
  {
   "cell_type": "code",
   "execution_count": 2,
   "metadata": {},
   "outputs": [
    {
     "data": {
      "text/html": [
       "<div>\n",
       "<style scoped>\n",
       "    .dataframe tbody tr th:only-of-type {\n",
       "        vertical-align: middle;\n",
       "    }\n",
       "\n",
       "    .dataframe tbody tr th {\n",
       "        vertical-align: top;\n",
       "    }\n",
       "\n",
       "    .dataframe thead th {\n",
       "        text-align: right;\n",
       "    }\n",
       "</style>\n",
       "<table border=\"1\" class=\"dataframe\">\n",
       "  <thead>\n",
       "    <tr style=\"text-align: right;\">\n",
       "      <th>Stock</th>\n",
       "      <th>AAPL</th>\n",
       "      <th>FB</th>\n",
       "      <th>GOOG</th>\n",
       "    </tr>\n",
       "    <tr>\n",
       "      <th>Date</th>\n",
       "      <th></th>\n",
       "      <th></th>\n",
       "      <th></th>\n",
       "    </tr>\n",
       "  </thead>\n",
       "  <tbody>\n",
       "    <tr>\n",
       "      <th>2014-03-28</th>\n",
       "      <td>0.001118</td>\n",
       "      <td>0.015997</td>\n",
       "      <td>-0.002732</td>\n",
       "    </tr>\n",
       "    <tr>\n",
       "      <th>2014-03-31</th>\n",
       "      <td>0.000224</td>\n",
       "      <td>-0.003818</td>\n",
       "      <td>0.005422</td>\n",
       "    </tr>\n",
       "    <tr>\n",
       "      <th>2014-04-01</th>\n",
       "      <td>-0.009065</td>\n",
       "      <td>-0.038007</td>\n",
       "      <td>-0.017967</td>\n",
       "    </tr>\n",
       "    <tr>\n",
       "      <th>2014-04-02</th>\n",
       "      <td>-0.001659</td>\n",
       "      <td>-0.001594</td>\n",
       "      <td>0.000282</td>\n",
       "    </tr>\n",
       "    <tr>\n",
       "      <th>2014-04-03</th>\n",
       "      <td>0.006979</td>\n",
       "      <td>0.054295</td>\n",
       "      <td>-0.004809</td>\n",
       "    </tr>\n",
       "  </tbody>\n",
       "</table>\n",
       "</div>"
      ],
      "text/plain": [
       "Stock           AAPL        FB      GOOG\n",
       "Date                                    \n",
       "2014-03-28  0.001118  0.015997 -0.002732\n",
       "2014-03-31  0.000224 -0.003818  0.005422\n",
       "2014-04-01 -0.009065 -0.038007 -0.017967\n",
       "2014-04-02 -0.001659 -0.001594  0.000282\n",
       "2014-04-03  0.006979  0.054295 -0.004809"
      ]
     },
     "execution_count": 2,
     "metadata": {},
     "output_type": "execute_result"
    }
   ],
   "source": [
    "#data_GA = data.query(\"Stock == 'GOOG' | Stock == 'AAPL'\").dropna().groupby(\"Stock\")[\"Return\"]\n",
    "data_AFG = data.pivot_table(index='Date', columns='Stock', values='Return')[[\"AAPL\",\"FB\",\"GOOG\"]].dropna()\n",
    "data_AFG.head()"
   ]
  },
  {
   "cell_type": "code",
   "execution_count": 3,
   "metadata": {},
   "outputs": [],
   "source": [
    "#data.query(\"Stock == 'GOOG' | Stock == 'AAPL' | Stock == 'FB'\")[[\"Date\",\"Stock\",\"Return\"]].dropna().groupby([\"Date\",\"Stock\"], as_index=False).head()"
   ]
  },
  {
   "cell_type": "markdown",
   "metadata": {},
   "source": [
    "## Granger causality"
   ]
  },
  {
   "cell_type": "code",
   "execution_count": 4,
   "metadata": {},
   "outputs": [
    {
     "ename": "AttributeError",
     "evalue": "module 'statsmodels' has no attribute 'api'",
     "output_type": "error",
     "traceback": [
      "\u001b[0;31m---------------------------------------------------------------------------\u001b[0m",
      "\u001b[0;31mAttributeError\u001b[0m                            Traceback (most recent call last)",
      "\u001b[0;32m<ipython-input-4-c9a30544db70>\u001b[0m in \u001b[0;36m<module>\u001b[0;34m()\u001b[0m\n\u001b[0;32m----> 1\u001b[0;31m \u001b[0mstatsmodels\u001b[0m\u001b[0;34m.\u001b[0m\u001b[0mapi\u001b[0m\u001b[0;34m.\u001b[0m\u001b[0mtsa\u001b[0m\u001b[0;34m.\u001b[0m\u001b[0mstattools\u001b[0m\u001b[0;34m.\u001b[0m\u001b[0mgrangercausalitytests\u001b[0m\u001b[0;34m(\u001b[0m\u001b[0mdata_AFG\u001b[0m\u001b[0;34m[\u001b[0m\u001b[0;34m[\u001b[0m\u001b[0;34m'GOOG'\u001b[0m\u001b[0;34m,\u001b[0m \u001b[0;34m'AAPL'\u001b[0m\u001b[0;34m]\u001b[0m\u001b[0;34m]\u001b[0m\u001b[0;34m,\u001b[0m \u001b[0mmaxlag\u001b[0m\u001b[0;34m=\u001b[0m\u001b[0;36m10\u001b[0m\u001b[0;34m,\u001b[0m \u001b[0maddconst\u001b[0m\u001b[0;34m=\u001b[0m\u001b[0;32mTrue\u001b[0m\u001b[0;34m)\u001b[0m\u001b[0;34m;\u001b[0m\u001b[0;34m\u001b[0m\u001b[0m\n\u001b[0m",
      "\u001b[0;31mAttributeError\u001b[0m: module 'statsmodels' has no attribute 'api'"
     ]
    }
   ],
   "source": [
    "statsmodels.api.tsa.stattools.grangercausalitytests(data_AFG[['GOOG', 'AAPL']], maxlag=10, addconst=True);"
   ]
  },
  {
   "cell_type": "markdown",
   "metadata": {},
   "source": [
    "__Sum up:__ Apple and Google stocks has no common lag with significant value of linear interdependence"
   ]
  },
  {
   "cell_type": "markdown",
   "metadata": {},
   "source": [
    "## Using correlation is a bad idea, so we use EGCM package recently ported from R-package"
   ]
  },
  {
   "cell_type": "code",
   "execution_count": null,
   "metadata": {},
   "outputs": [],
   "source": [
    "stats.pearsonr(data_AFG.AAPL, data_AFG.GOOG)"
   ]
  },
  {
   "cell_type": "markdown",
   "metadata": {},
   "source": [
    "To python package converted only a subset of functions, the package is raw, but it is still better than Pearson correlation.\n",
    "\n",
    "Link to original R package: https://cran.r-project.org/web/packages/egcm/index.html\n",
    "\n",
    "Python port link: https://github.com/David-OConnor/egcm"
   ]
  },
  {
   "cell_type": "code",
   "execution_count": null,
   "metadata": {},
   "outputs": [],
   "source": [
    "from egcm.test import *\n",
    "from egcm import *"
   ]
  },
  {
   "cell_type": "markdown",
   "metadata": {},
   "source": [
    "Citation from documentation (https://github.com/cran/egcm/blob/master/R/egcm.R):\n",
    "\n",
    "    Given two time series $Y[t]$ and $X[t]$, the Engle Granger cointegration\n",
    "    model in its simplest form looks for alpha, beta and rho such that\n",
    "\n",
    "    $Y[t] = \\alpha + \\beta * X[t] + R[t]$\n",
    "\n",
    "    $R[t] = \\rho * R[t-1] + \\epsilon[t]$\n",
    "\n",
    "    where $epsilon[t]$ is a series of independent and identically distributed\n",
    "    innovations with mean zero. If $\\alpha$, $\\beta$ and $\\rho$ can be found such that\n",
    "    $-1 < \\rho < 1$, then the series are said to be cointegrated. If $abs(\\rho) = 1$,\n",
    "    then the residual series $R[t]$ is said to have a unit root (or alternatively,\n",
    "    it is said to follow a random walk)."
   ]
  },
  {
   "cell_type": "markdown",
   "metadata": {},
   "source": [
    "Looks like, ported package wrong calculate P-value, so we implement additional check."
   ]
  },
  {
   "cell_type": "code",
   "execution_count": null,
   "metadata": {},
   "outputs": [],
   "source": [
    "def cointegration_check(egcm_result):\n",
    "    # Check for cointegration without pvalue\n",
    "    keys = ['alpha', 'beta','rho']\n",
    "    parameters = [egcm_result.get(key) for key in keys]\n",
    "    df = pd.DataFrame({'keys': keys, 'parameters': parameters})\n",
    "    return df, all(abs(df.parameters) < 1)"
   ]
  },
  {
   "cell_type": "code",
   "execution_count": null,
   "metadata": {},
   "outputs": [],
   "source": []
  },
  {
   "cell_type": "markdown",
   "metadata": {},
   "source": [
    "### Test data"
   ]
  },
  {
   "cell_type": "code",
   "execution_count": null,
   "metadata": {},
   "outputs": [],
   "source": [
    "norm_values = scipy.stats.norm.rvs(size=100)\n",
    "\n",
    "test_data0 = pd.DataFrame({\"First\":norm_values, \"Second\":200*norm_values+200})\n",
    "test_data1 = pd.DataFrame({\"First\":norm_values, \"Second\":scipy.stats.norm.rvs(size=100)})\n",
    "test_data2 = pd.DataFrame({\"First\":norm_values, \"Second\":norm_values+norm_values})\n",
    "test_data3 = pd.DataFrame({\"First\":norm_values, \"Second\":range(0,100)+sin(range(0,100))+norm_values+norm_values*norm_values})\n",
    "test_data4 = pd.DataFrame({\"First\":norm_values, \"Second\":range(0,100)})\n",
    "test_data = test_data1\n",
    "\n",
    "test_egcm_result = egcm(test_data[\"First\"], test_data[\"Second\"], robust=True)\n",
    "test_egcm(test_egcm_result)\n",
    "is_cointegrated(test_egcm_result)\n",
    "cointegration_check(test_egcm_result)"
   ]
  },
  {
   "cell_type": "markdown",
   "metadata": {},
   "source": [
    "## Apple and Google"
   ]
  },
  {
   "cell_type": "code",
   "execution_count": null,
   "metadata": {},
   "outputs": [],
   "source": [
    "#import egcm\n",
    "egcm_result = egcm(X=data_AFG.AAPL, Y=data_AFG.GOOG, robust=True)\n",
    "\n",
    "# egcm(X,Y) -- Constructs an Engle-Granger cointegration model from X & Y\n",
    "# summary.egcm(E) -- Prints various summary statistics on the Engle-Granger\n",
    "# cointegration model constructed from X & Y\n",
    "# plot.egcm(E) -- Creates a graph of the Engle-Granger cointegration model\n",
    "test_egcm(egcm_result)\n",
    "is_cointegrated(egcm_result)\n",
    "cointegration_check(egcm_result)"
   ]
  },
  {
   "cell_type": "markdown",
   "metadata": {},
   "source": [
    "We cannot reject that they co-integrated"
   ]
  },
  {
   "cell_type": "code",
   "execution_count": null,
   "metadata": {},
   "outputs": [],
   "source": []
  }
 ],
 "metadata": {
  "kernelspec": {
   "display_name": "Python 3",
   "language": "python",
   "name": "python3"
  },
  "language_info": {
   "codemirror_mode": {
    "name": "ipython",
    "version": 3
   },
   "file_extension": ".py",
   "mimetype": "text/x-python",
   "name": "python",
   "nbconvert_exporter": "python",
   "pygments_lexer": "ipython3",
   "version": "3.6.5"
  }
 },
 "nbformat": 4,
 "nbformat_minor": 2
}
